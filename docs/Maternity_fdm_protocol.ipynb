{
 "cells": [
  {
   "cell_type": "markdown",
   "metadata": {},
   "source": [
    "Process for Maternity FDM build:\n",
    "- All tables copied from Staging database into MYSPACE - this is where the working versions of the tables will be saved \n",
    "- Specifications and documentation for FDM process sent to analyst \n",
    "- FDMing for this dataset conducted manually (scripts uploaded into this repo) \n",
    "- Once FDMing is complete, all tables copied into **CY_FDM_maternity** space\n",
    "- Dashboards and QCing conducted by JB \n",
    "- Exact variables for analysis to be requested by analyst \n",
    "- Build the cohort for analysis \n",
    "- Any temp tables to be saved into analyst personal workspace "
   ]
  }
 ],
 "metadata": {
  "language_info": {
   "name": "python"
  },
  "orig_nbformat": 4
 },
 "nbformat": 4,
 "nbformat_minor": 2
}
